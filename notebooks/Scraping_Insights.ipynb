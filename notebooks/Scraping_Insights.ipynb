{
 "cells": [
  {
   "cell_type": "code",
   "execution_count": 19,
   "id": "c3ae785d-3ad4-47c8-b51a-22800e32f7fa",
   "metadata": {},
   "outputs": [
    {
     "name": "stdout",
     "output_type": "stream",
     "text": [
      "db reviews saved to CSV.\n"
     ]
    }
   ],
   "source": [
    "import sys\n",
    "import os\n",
    "import importlib\n",
    "\n",
    "sys.path.append(os.path.abspath(\"..\"))\n",
    "import src.scraper\n",
    "importlib.reload(src.scraper)\n",
    "from src.scraper import GoogleScraper\n",
    "\n",
    "#Scrape bank data and store it locally\n",
    "scraper = GoogleScraper()\n",
    "scraper.scrapeBankData(\"cbe\",\"com.combanketh.mobilebanking\")\n",
    "scraper.scrapeBankData(\"boa\",\"com.boa.boaMobileBanking\")\n",
    "scraper.scrapeBankData(\"db\",\"com.dashen.dashensuperapp\")"
   ]
  },
  {
   "cell_type": "code",
   "execution_count": null,
   "id": "a39e7415-d881-4783-bcd6-0cadd1b2fe28",
   "metadata": {},
   "outputs": [],
   "source": []
  }
 ],
 "metadata": {
  "kernelspec": {
   "display_name": "Python 3 (ipykernel)",
   "language": "python",
   "name": "python3"
  },
  "language_info": {
   "codemirror_mode": {
    "name": "ipython",
    "version": 3
   },
   "file_extension": ".py",
   "mimetype": "text/x-python",
   "name": "python",
   "nbconvert_exporter": "python",
   "pygments_lexer": "ipython3",
   "version": "3.13.0"
  }
 },
 "nbformat": 4,
 "nbformat_minor": 5
}
