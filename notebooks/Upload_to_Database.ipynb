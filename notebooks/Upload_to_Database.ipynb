{
 "cells": [
  {
   "cell_type": "code",
   "execution_count": 12,
   "id": "c52ad5bb-c9e6-426d-8ea3-272346a4c8ac",
   "metadata": {},
   "outputs": [
    {
     "name": "stdout",
     "output_type": "stream",
     "text": [
      "✅ Successfully connected to Oracle DB.\n",
      "📥 Reviews successfully inserted.\n",
      "🔒 Oracle connection closed.\n"
     ]
    }
   ],
   "source": [
    "# 🧠 Upload to Oracle DB\n",
    "import sys\n",
    "import os\n",
    "import importlib\n",
    "\n",
    "sys.path.append(os.path.abspath(\"..\"))\n",
    "import src.database\n",
    "importlib.reload(src.database)\n",
    "from src.database import OracleUploader\n",
    "\n",
    "uploader = OracleUploader()\n",
    "uploader.connect()\n",
    "csv_path = \"../data/sentiment_themes_labeled.csv\"\n",
    "#insert banks\n",
    "uploader.insert_banks_from_csv(csv_path)\n",
    "\n",
    "\n",
    "\n",
    "# Load and insert\n",
    "uploader.insert_reviews_from_csv(csv_path)\n",
    "\n",
    "# Close connection\n",
    "uploader.close()\n"
   ]
  },
  {
   "cell_type": "code",
   "execution_count": null,
   "id": "9b85ec3f-f580-4b71-870d-084b944bf4aa",
   "metadata": {},
   "outputs": [],
   "source": []
  }
 ],
 "metadata": {
  "kernelspec": {
   "display_name": "Python 3 (ipykernel)",
   "language": "python",
   "name": "python3"
  },
  "language_info": {
   "codemirror_mode": {
    "name": "ipython",
    "version": 3
   },
   "file_extension": ".py",
   "mimetype": "text/x-python",
   "name": "python",
   "nbconvert_exporter": "python",
   "pygments_lexer": "ipython3",
   "version": "3.13.0"
  }
 },
 "nbformat": 4,
 "nbformat_minor": 5
}
